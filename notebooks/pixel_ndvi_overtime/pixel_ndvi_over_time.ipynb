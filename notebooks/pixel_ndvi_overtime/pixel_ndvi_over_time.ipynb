{
 "cells": [
  {
   "cell_type": "markdown",
   "id": "88eaff3b-e594-4408-b4ee-aeb77fb40af5",
   "metadata": {},
   "source": [
    "# NDVI for a single pixel overtime\n",
    "\n",
    "This Notebook calcualtes NDVI for a single pixel based on WGS84 coordinates as supplied by the user. \n",
    "\n",
    "## Limitations\n",
    "Work must still be done to remove cloud affected pixels. Currently the scrip only fetches pixels from scenes with less than a specified cloud percentage. However, this should be improved to integrated the cloud mask for said pixel. \n",
    "\n",
    "### Purpose\n",
    "This is not a generic tool but was develop for a specfic project. Work is still to be done to increase its genericness "
   ]
  },
  {
   "cell_type": "code",
   "execution_count": null,
   "id": "124a4635-f124-4955-9064-c7e104eb2315",
   "metadata": {},
   "outputs": [],
   "source": [
    "import pystac_client\n",
    "import stackstac\n",
    "import matplotlib.pyplot as plt\n",
    "from dask.distributed import Client, progress\n",
    "import planetary_computer\n",
    "import numpy as np\n",
    "import rioxarray\n",
    "from datetime import datetime\n",
    "import xarray as xr\n"
   ]
  },
  {
   "cell_type": "code",
   "execution_count": null,
   "id": "ba4173aa-2ae0-4303-b7ef-7c3e8901702b",
   "metadata": {},
   "outputs": [],
   "source": [
    "#AS per > https://github.com/microsoft/PlanetaryComputerExamples/blob/main/datasets/sentinel-2-l2a/baseline-change.ipynb\n",
    "\n",
    "def harmonize_to_old(data):\n",
    "    \"\"\"\n",
    "    Harmonize new Sentinel-2 data to the old baseline.\n",
    "\n",
    "    Parameters\n",
    "    ----------\n",
    "    data: xarray.DataArray\n",
    "        A DataArray with four dimensions: time, band, y, x\n",
    "\n",
    "    Returns\n",
    "    -------\n",
    "    harmonized: xarray.DataArray\n",
    "        A DataArray with all values harmonized to the old\n",
    "        processing baseline.\n",
    "    \"\"\"\n",
    "    cutoff = datetime(2022, 1, 25)\n",
    "    offset = 1000\n",
    "    bands = [\n",
    "        \"red\",\n",
    "        \"nir\",\n",
    "    ]\n",
    "\n",
    "    old = data.sel(time=slice(cutoff))\n",
    "\n",
    "    to_process = list(set(bands) & set(data.band.data.tolist()))\n",
    "    new = data.sel(time=slice(cutoff, None)).drop_sel(band=to_process)\n",
    "\n",
    "    new_harmonized = data.sel(time=slice(cutoff, None), band=to_process).clip(offset)\n",
    "    new_harmonized -= offset\n",
    "\n",
    "    new = xr.concat([new, new_harmonized], \"band\").sel(band=data.band.data.tolist())\n",
    "    return xr.concat([old, new], dim=\"time\")"
   ]
  },
  {
   "cell_type": "code",
   "execution_count": null,
   "id": "b9f172e5-96e1-4898-9cee-7ce9b621272c",
   "metadata": {},
   "outputs": [],
   "source": [
    "client = Client()\n",
    "print(f\"/proxy/{client.scheduler_info()['services']['dashboard']}/status\")"
   ]
  },
  {
   "cell_type": "code",
   "execution_count": null,
   "id": "6f01663b-db43-4d7c-8f06-88099d1782df",
   "metadata": {},
   "outputs": [],
   "source": [
    "catalog = pystac_client.Client.open(\n",
    "    #\"http#s://earth-search.aws.element84.com/v1\"\n",
    "    \"https://planetarycomputer.microsoft.com/api/stac/v1\",\n",
    "    modifier=planetary_computer.sign_inplace,\n",
    ")"
   ]
  },
  {
   "cell_type": "markdown",
   "id": "d09160f1-0516-46e2-aff7-c3d835c57245",
   "metadata": {},
   "source": [
    "<div style=\"background-color: #03fc62; padding: 10px;\">\n",
    "    \n",
    "###  User Input Required\n",
    "* **time_of_interest**: The date range of imagery to fetch (in format of yyyy-mm-dd/yyyy-mm-dd)\n",
    "* **point_lon, point_lat**: longitude and latitude of pixel to interrogate\n",
    "\n",
    "</div>\n"
   ]
  },
  {
   "cell_type": "code",
   "execution_count": null,
   "id": "4205b569-06e6-4fa9-8e78-807ac35168cc",
   "metadata": {},
   "outputs": [],
   "source": [
    "time_of_interest = \"2017-02-01/2023-10-24\"\n",
    "point_lon, point_lat = 175.9538129505,-37.6752894183"
   ]
  },
  {
   "cell_type": "code",
   "execution_count": null,
   "id": "63a26b30-abd3-4d37-bd20-9b12d4673f47",
   "metadata": {},
   "outputs": [],
   "source": [
    "geom=[point_lon-0.000005, point_lat-0.000005, point_lon+0.000005, point_lat+0.000005]\n",
    "search = catalog.search(\n",
    "    collections=[\"sentinel-2-l2a\"],\n",
    "    intersects=dict(type=\"Point\", coordinates=(point_lon, point_lat)),\n",
    "    datetime=time_of_interest,\n",
    "    query={\"eo:cloud_cover\": {\"lt\": 50}},\n",
    ")\n",
    "\n",
    "matched = search.matched()\n",
    "if matched is not None:\n",
    "    print(f\"{search.matched()} scenes found\")\n"
   ]
  },
  {
   "cell_type": "code",
   "execution_count": null,
   "id": "d516ad3a-ad2e-4273-9a3f-09efb1fedfc2",
   "metadata": {},
   "outputs": [],
   "source": [
    "# get all items\n",
    "items_dict = search.item_collection()\n",
    "items_dict"
   ]
  },
  {
   "cell_type": "code",
   "execution_count": null,
   "id": "2b676f4f-9a1a-48ca-9200-498e5ab8b8e5",
   "metadata": {},
   "outputs": [],
   "source": [
    "stack = (\n",
    "    stackstac.stack(\n",
    "        items_dict,\n",
    "        assets=[\"B04\", \"B08\"],  # blue, green, red, nir\n",
    "        chunksize=256,  # set chunk size to 256 to get one chunk per time step\n",
    "        bounds_latlon=geom,\n",
    "    )\n",
    "    .where(lambda x: x > 0, other=np.nan)  # sentinel-2 uses 0 as nodata\n",
    "    .assign_coords(\n",
    "        band=lambda x: x.common_name.rename(\"band\"),  # use common names\n",
    "        #time=lambda x: x.time.dt.round(\n",
    "        #    \"D\"\n",
    "        #),  # round time to daily for nicer plot labels\n",
    "    )\n",
    ")"
   ]
  },
  {
   "cell_type": "code",
   "execution_count": null,
   "id": "dea07333-2050-4b50-ab17-a7e934544ac6",
   "metadata": {},
   "outputs": [],
   "source": [
    "# Correct for S2 offset\n",
    "stack = harmonize_to_old(stack)"
   ]
  },
  {
   "cell_type": "code",
   "execution_count": null,
   "id": "286e86bd-dfb2-4e59-95e2-d4b97d784bb5",
   "metadata": {},
   "outputs": [],
   "source": [
    "subset = stack.compute()"
   ]
  },
  {
   "cell_type": "code",
   "execution_count": null,
   "id": "eb822b54-23ac-4c67-969f-deb1282ab312",
   "metadata": {},
   "outputs": [],
   "source": [
    "nir, red = subset.sel(band=\"nir\"), subset.sel(band=\"red\")\n",
    "subset['ndvi'] = (nir - red) / (nir + red)\n"
   ]
  },
  {
   "cell_type": "code",
   "execution_count": null,
   "id": "fcd2d820-d8b0-4e6c-9f8e-a516ef61fd68",
   "metadata": {},
   "outputs": [],
   "source": [
    "subset = subset['ndvi']\n",
    "subset = subset.drop([c for c in subset.coords if not (c in ['time', 'x', 'x'])])\n"
   ]
  },
  {
   "cell_type": "markdown",
   "id": "f7d96bee-a29a-49a3-a476-750572763d73",
   "metadata": {},
   "source": [
    "# NDVI Scatter Plot"
   ]
  },
  {
   "cell_type": "code",
   "execution_count": null,
   "id": "209f4326-d213-4bcc-a54c-66eed5189f01",
   "metadata": {
    "scrolled": true
   },
   "outputs": [],
   "source": [
    "fig, ax = plt.subplots(figsize=(30, 12)) \n",
    "\n",
    "fig.suptitle('NDVI For Selected Pixel Over Time', fontsize=40)\n",
    "\n",
    "# Add ant grey windows here\n",
    "date_ranges = [\n",
    "    ('15/02/2023', '28/04/2023'),\n",
    "    ('15/02/2022', '28/04/2022'),\n",
    "    ('15/02/2021', '28/04/2021'),\n",
    "    ('15/02/2020', '28/04/2020'),\n",
    "    ('15/02/2019', '28/04/2019'),\n",
    "    ('15/02/2018', '28/04/2018'),\n",
    "    ('15/02/2017', '28/04/2017')\n",
    "\n",
    "]\n",
    "\n",
    "for begin_date_str, end_date_str in date_ranges:\n",
    "    detect_begin = datetime.strptime(begin_date_str, '%d/%m/%Y')\n",
    "    detect_end = datetime.strptime(end_date_str, '%d/%m/%Y')  \n",
    "    ax.axvspan(detect_begin, detect_end, facecolor='grey', alpha=0.2)\n",
    "\n",
    "cyclone = datetime(2023, 2, 5)\n",
    "\n",
    "plt.axvline(x=cyclone, color='red', linestyle='--', label='Cyclone')\n",
    "\n",
    "\n",
    "subset.plot(marker='o', linestyle='',  alpha=0.8, markersize=10,  ax=ax)\n"
   ]
  },
  {
   "cell_type": "markdown",
   "id": "1675131c-e89d-431d-8568-b2eb2d122d6f",
   "metadata": {},
   "source": [
    "# Linear Tredline"
   ]
  },
  {
   "cell_type": "code",
   "execution_count": null,
   "id": "a36f2ec6-ae72-4119-b6a8-2b4cd3ec1da1",
   "metadata": {},
   "outputs": [],
   "source": [
    "from scipy.optimize import curve_fit\n",
    "from scipy.stats import linregress\n",
    "fig, ax = plt.subplots(figsize=(30, 12)) \n",
    "\n",
    "fig.suptitle('NDVI For Selected Pixel Over Time', fontsize=40)\n",
    "\n",
    "# Add ant grey windows here\n",
    "date_ranges = [\n",
    "    ('15/02/2023', '31/03/2023'),\n",
    "    ('15/02/2022', '31/03/2022'),\n",
    "    ('15/02/2021', '31/03/2021'),\n",
    "    ('15/02/2020', '31/03/2020'),\n",
    "    ('15/02/2019', '31/03/2019'),\n",
    "    ('15/02/2018', '31/03/2018'),\n",
    "    ('15/02/2017', '31/03/2017')\n",
    "\n",
    "]\n",
    "\n",
    "for begin_date_str, end_date_str in date_ranges:\n",
    "    detect_begin = datetime.strptime(begin_date_str, '%d/%m/%Y')\n",
    "    detect_end = datetime.strptime(end_date_str, '%d/%m/%Y')\n",
    "    \n",
    "    ax.axvspan(detect_begin, detect_end, facecolor='grey', alpha=0.2)\n",
    "#subset.plot()\n",
    "\n",
    "ndvi_array = subset.values.ravel()\n",
    "\n",
    "# Create an array of time values\n",
    "time_values = np.arange(len(ndvi_array))\n",
    "\n",
    "# Perform linear regression\n",
    "slope, intercept, r_value, p_value, std_err = linregress(time_values, ndvi_array)\n",
    "\n",
    "# Create a trendline based on the linear regression results\n",
    "trendline = slope * time_values + intercept\n",
    "\n",
    "\n",
    "subset.plot(marker='o', linestyle='',  alpha=0.8, markersize=10,  ax=ax)\n",
    "plt.plot(subset.time, trendline, color='red', label='Trendline')\n"
   ]
  },
  {
   "cell_type": "markdown",
   "id": "ffbd5aca-f4ad-40ee-85ed-d21983c3737d",
   "metadata": {},
   "source": [
    "# None Linear Trend line"
   ]
  },
  {
   "cell_type": "code",
   "execution_count": null,
   "id": "c5eb6f5f-fa65-496b-8122-ceb25343bbff",
   "metadata": {
    "scrolled": true
   },
   "outputs": [],
   "source": [
    "# def quadratic(x, a, b, c):\n",
    "#     return a * x**2 + b * x + c\n",
    "\n",
    "# from scipy.optimize import curve_fit\n",
    "\n",
    "# ndvi_array = subset.values.ravel()\n",
    "\n",
    "# # Create an array of time values\n",
    "# time_values = np.arange(len(ndvi_array))\n",
    "\n",
    "# # Fit the data to the quadratic function\n",
    "# params, covariance = curve_fit(quadratic, time_values, ndvi_array)\n",
    "# x_fit = np.linspace(min(time_values), max(time_values), 100)\n",
    "# y_fit = quadratic(x_fit, *params)\n"
   ]
  }
 ],
 "metadata": {
  "kernelspec": {
   "display_name": "Python 3 (ipykernel)",
   "language": "python",
   "name": "python3"
  },
  "language_info": {
   "codemirror_mode": {
    "name": "ipython",
    "version": 3
   },
   "file_extension": ".py",
   "mimetype": "text/x-python",
   "name": "python",
   "nbconvert_exporter": "python",
   "pygments_lexer": "ipython3",
   "version": "3.8.10"
  }
 },
 "nbformat": 4,
 "nbformat_minor": 5
}
